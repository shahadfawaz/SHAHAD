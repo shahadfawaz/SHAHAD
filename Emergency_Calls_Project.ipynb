{
  "nbformat": 4,
  "nbformat_minor": 0,
  "metadata": {
    "colab": {
      "name": "Emergency Calls Project.ipynb",
      "provenance": [],
      "collapsed_sections": [
        "tHXbnoODgKaj",
        "3Z6ZgPaxgAfs",
        "r_QKywncyeV7"
      ]
    },
    "kernelspec": {
      "name": "python3",
      "display_name": "Python 3"
    },
    "language_info": {
      "name": "python"
    }
  },
  "cells": [
    {
      "cell_type": "markdown",
      "source": [
        "# **Import Library**"
      ],
      "metadata": {
        "id": "tHXbnoODgKaj"
      }
    },
    {
      "cell_type": "code",
      "execution_count": 2,
      "metadata": {
        "id": "V9N21D1HlizJ"
      },
      "outputs": [],
      "source": [
        "import pandas as pd\n",
        "import numpy as np\n",
        "\n",
        "#Modeling \n",
        "from sklearn.linear_model import LinearRegression\n",
        "\n",
        "#visualization\n",
        "import seaborn as sns\n",
        "sns.set_style('whitegrid')\n",
        "\n",
        "import matplotlib.pyplot as plt\n",
        "\n"
      ]
    },
    {
      "cell_type": "markdown",
      "source": [
        "# **DataSet**"
      ],
      "metadata": {
        "id": "3Z6ZgPaxgAfs"
      }
    },
    {
      "cell_type": "code",
      "source": [
        "Emerg_call = pd.read_csv('/content/911.csv')\n",
        "Emerg_call"
      ],
      "metadata": {
        "colab": {
          "base_uri": "https://localhost:8080/",
          "height": 771
        },
        "id": "qXgNW0Tilz9H",
        "outputId": "9ecd6b9e-1cb4-4c60-fd58-f5092e8244df"
      },
      "execution_count": 3,
      "outputs": [
        {
          "output_type": "execute_result",
          "data": {
            "text/html": [
              "<div>\n",
              "<style scoped>\n",
              "    .dataframe tbody tr th:only-of-type {\n",
              "        vertical-align: middle;\n",
              "    }\n",
              "\n",
              "    .dataframe tbody tr th {\n",
              "        vertical-align: top;\n",
              "    }\n",
              "\n",
              "    .dataframe thead th {\n",
              "        text-align: right;\n",
              "    }\n",
              "</style>\n",
              "<table border=\"1\" class=\"dataframe\">\n",
              "  <thead>\n",
              "    <tr style=\"text-align: right;\">\n",
              "      <th></th>\n",
              "      <th>lat</th>\n",
              "      <th>lng</th>\n",
              "      <th>desc</th>\n",
              "      <th>zip</th>\n",
              "      <th>title</th>\n",
              "      <th>timeStamp</th>\n",
              "      <th>twp</th>\n",
              "      <th>addr</th>\n",
              "      <th>e</th>\n",
              "    </tr>\n",
              "  </thead>\n",
              "  <tbody>\n",
              "    <tr>\n",
              "      <th>0</th>\n",
              "      <td>40.297876</td>\n",
              "      <td>-75.581294</td>\n",
              "      <td>REINDEER CT &amp; DEAD END;  NEW HANOVER; Station ...</td>\n",
              "      <td>19525.0</td>\n",
              "      <td>EMS: BACK PAINS/INJURY</td>\n",
              "      <td>2015-12-10 17:10:52</td>\n",
              "      <td>NEW HANOVER</td>\n",
              "      <td>REINDEER CT &amp; DEAD END</td>\n",
              "      <td>1</td>\n",
              "    </tr>\n",
              "    <tr>\n",
              "      <th>1</th>\n",
              "      <td>40.258061</td>\n",
              "      <td>-75.264680</td>\n",
              "      <td>BRIAR PATH &amp; WHITEMARSH LN;  HATFIELD TOWNSHIP...</td>\n",
              "      <td>19446.0</td>\n",
              "      <td>EMS: DIABETIC EMERGENCY</td>\n",
              "      <td>2015-12-10 17:29:21</td>\n",
              "      <td>HATFIELD TOWNSHIP</td>\n",
              "      <td>BRIAR PATH &amp; WHITEMARSH LN</td>\n",
              "      <td>1</td>\n",
              "    </tr>\n",
              "    <tr>\n",
              "      <th>2</th>\n",
              "      <td>40.121182</td>\n",
              "      <td>-75.351975</td>\n",
              "      <td>HAWS AVE; NORRISTOWN; 2015-12-10 @ 14:39:21-St...</td>\n",
              "      <td>19401.0</td>\n",
              "      <td>Fire: GAS-ODOR/LEAK</td>\n",
              "      <td>2015-12-10 14:39:21</td>\n",
              "      <td>NORRISTOWN</td>\n",
              "      <td>HAWS AVE</td>\n",
              "      <td>1</td>\n",
              "    </tr>\n",
              "    <tr>\n",
              "      <th>3</th>\n",
              "      <td>40.116153</td>\n",
              "      <td>-75.343513</td>\n",
              "      <td>AIRY ST &amp; SWEDE ST;  NORRISTOWN; Station 308A;...</td>\n",
              "      <td>19401.0</td>\n",
              "      <td>EMS: CARDIAC EMERGENCY</td>\n",
              "      <td>2015-12-10 16:47:36</td>\n",
              "      <td>NORRISTOWN</td>\n",
              "      <td>AIRY ST &amp; SWEDE ST</td>\n",
              "      <td>1</td>\n",
              "    </tr>\n",
              "    <tr>\n",
              "      <th>4</th>\n",
              "      <td>40.251492</td>\n",
              "      <td>-75.603350</td>\n",
              "      <td>CHERRYWOOD CT &amp; DEAD END;  LOWER POTTSGROVE; S...</td>\n",
              "      <td>NaN</td>\n",
              "      <td>EMS: DIZZINESS</td>\n",
              "      <td>2015-12-10 16:56:52</td>\n",
              "      <td>LOWER POTTSGROVE</td>\n",
              "      <td>CHERRYWOOD CT &amp; DEAD END</td>\n",
              "      <td>1</td>\n",
              "    </tr>\n",
              "    <tr>\n",
              "      <th>...</th>\n",
              "      <td>...</td>\n",
              "      <td>...</td>\n",
              "      <td>...</td>\n",
              "      <td>...</td>\n",
              "      <td>...</td>\n",
              "      <td>...</td>\n",
              "      <td>...</td>\n",
              "      <td>...</td>\n",
              "      <td>...</td>\n",
              "    </tr>\n",
              "    <tr>\n",
              "      <th>663517</th>\n",
              "      <td>40.157956</td>\n",
              "      <td>-75.348060</td>\n",
              "      <td>SUNSET AVE &amp; WOODLAND AVE; EAST NORRITON; 2020...</td>\n",
              "      <td>19403.0</td>\n",
              "      <td>Traffic: VEHICLE ACCIDENT -</td>\n",
              "      <td>2020-07-29 15:46:51</td>\n",
              "      <td>EAST NORRITON</td>\n",
              "      <td>SUNSET AVE &amp; WOODLAND AVE</td>\n",
              "      <td>1</td>\n",
              "    </tr>\n",
              "    <tr>\n",
              "      <th>663518</th>\n",
              "      <td>40.136306</td>\n",
              "      <td>-75.428697</td>\n",
              "      <td>EAGLEVILLE RD &amp; BUNTING CIR;  LOWER PROVIDENCE...</td>\n",
              "      <td>19403.0</td>\n",
              "      <td>EMS: GENERAL WEAKNESS</td>\n",
              "      <td>2020-07-29 15:52:19</td>\n",
              "      <td>LOWER PROVIDENCE</td>\n",
              "      <td>EAGLEVILLE RD &amp; BUNTING CIR</td>\n",
              "      <td>1</td>\n",
              "    </tr>\n",
              "    <tr>\n",
              "      <th>663519</th>\n",
              "      <td>40.013779</td>\n",
              "      <td>-75.300835</td>\n",
              "      <td>HAVERFORD STATION RD;  LOWER MERION; Station 3...</td>\n",
              "      <td>19041.0</td>\n",
              "      <td>EMS: VEHICLE ACCIDENT</td>\n",
              "      <td>2020-07-29 15:52:52</td>\n",
              "      <td>LOWER MERION</td>\n",
              "      <td>HAVERFORD STATION RD</td>\n",
              "      <td>1</td>\n",
              "    </tr>\n",
              "    <tr>\n",
              "      <th>663520</th>\n",
              "      <td>40.121603</td>\n",
              "      <td>-75.351437</td>\n",
              "      <td>MARSHALL ST &amp; HAWS AVE; NORRISTOWN; 2020-07-29...</td>\n",
              "      <td>19401.0</td>\n",
              "      <td>Fire: BUILDING FIRE</td>\n",
              "      <td>2020-07-29 15:54:08</td>\n",
              "      <td>NORRISTOWN</td>\n",
              "      <td>MARSHALL ST &amp; HAWS AVE</td>\n",
              "      <td>1</td>\n",
              "    </tr>\n",
              "    <tr>\n",
              "      <th>663521</th>\n",
              "      <td>40.015046</td>\n",
              "      <td>-75.299674</td>\n",
              "      <td>HAVERFORD STATION RD &amp; W MONTGOMERY AVE; LOWER...</td>\n",
              "      <td>19041.0</td>\n",
              "      <td>Traffic: VEHICLE ACCIDENT -</td>\n",
              "      <td>2020-07-29 15:52:46</td>\n",
              "      <td>LOWER MERION</td>\n",
              "      <td>HAVERFORD STATION RD &amp; W MONTGOMERY AVE</td>\n",
              "      <td>1</td>\n",
              "    </tr>\n",
              "  </tbody>\n",
              "</table>\n",
              "<p>663522 rows × 9 columns</p>\n",
              "</div>"
            ],
            "text/plain": [
              "              lat        lng  ...                                     addr  e\n",
              "0       40.297876 -75.581294  ...                   REINDEER CT & DEAD END  1\n",
              "1       40.258061 -75.264680  ...               BRIAR PATH & WHITEMARSH LN  1\n",
              "2       40.121182 -75.351975  ...                                 HAWS AVE  1\n",
              "3       40.116153 -75.343513  ...                       AIRY ST & SWEDE ST  1\n",
              "4       40.251492 -75.603350  ...                 CHERRYWOOD CT & DEAD END  1\n",
              "...           ...        ...  ...                                      ... ..\n",
              "663517  40.157956 -75.348060  ...                SUNSET AVE & WOODLAND AVE  1\n",
              "663518  40.136306 -75.428697  ...              EAGLEVILLE RD & BUNTING CIR  1\n",
              "663519  40.013779 -75.300835  ...                     HAVERFORD STATION RD  1\n",
              "663520  40.121603 -75.351437  ...                   MARSHALL ST & HAWS AVE  1\n",
              "663521  40.015046 -75.299674  ...  HAVERFORD STATION RD & W MONTGOMERY AVE  1\n",
              "\n",
              "[663522 rows x 9 columns]"
            ]
          },
          "metadata": {},
          "execution_count": 3
        }
      ]
    },
    {
      "cell_type": "markdown",
      "source": [
        "# **Data** **Processing**"
      ],
      "metadata": {
        "id": "r_QKywncyeV7"
      }
    },
    {
      "cell_type": "code",
      "source": [
        "Emrg_callCopy = Emerg_call.copy()"
      ],
      "metadata": {
        "id": "-JuCc_GEC_JH"
      },
      "execution_count": 4,
      "outputs": []
    },
    {
      "cell_type": "markdown",
      "source": [
        "Rename Columns"
      ],
      "metadata": {
        "id": "YPbstZgQZ9E0"
      }
    },
    {
      "cell_type": "code",
      "source": [
        "Emrg_callCopy = Emrg_callCopy.rename(columns={'lat':'Latitude','lng':'Longitude','desc':'Description'\n",
        ",'zip':'Zipcode','twp':'Township','addr':'Address'}, inplace = False)"
      ],
      "metadata": {
        "id": "wSd9Bj1dtO7P"
      },
      "execution_count": 5,
      "outputs": []
    },
    {
      "cell_type": "code",
      "source": [
        "Emrg_callCopy.head()"
      ],
      "metadata": {
        "colab": {
          "base_uri": "https://localhost:8080/",
          "height": 310
        },
        "id": "Kw9qHV6zxeqA",
        "outputId": "36d13f59-b923-4c78-8538-6426707ffe7b"
      },
      "execution_count": 6,
      "outputs": [
        {
          "output_type": "execute_result",
          "data": {
            "text/html": [
              "<div>\n",
              "<style scoped>\n",
              "    .dataframe tbody tr th:only-of-type {\n",
              "        vertical-align: middle;\n",
              "    }\n",
              "\n",
              "    .dataframe tbody tr th {\n",
              "        vertical-align: top;\n",
              "    }\n",
              "\n",
              "    .dataframe thead th {\n",
              "        text-align: right;\n",
              "    }\n",
              "</style>\n",
              "<table border=\"1\" class=\"dataframe\">\n",
              "  <thead>\n",
              "    <tr style=\"text-align: right;\">\n",
              "      <th></th>\n",
              "      <th>Latitude</th>\n",
              "      <th>Longitude</th>\n",
              "      <th>Description</th>\n",
              "      <th>Zipcode</th>\n",
              "      <th>title</th>\n",
              "      <th>timeStamp</th>\n",
              "      <th>Township</th>\n",
              "      <th>Address</th>\n",
              "      <th>e</th>\n",
              "    </tr>\n",
              "  </thead>\n",
              "  <tbody>\n",
              "    <tr>\n",
              "      <th>0</th>\n",
              "      <td>40.297876</td>\n",
              "      <td>-75.581294</td>\n",
              "      <td>REINDEER CT &amp; DEAD END;  NEW HANOVER; Station ...</td>\n",
              "      <td>19525.0</td>\n",
              "      <td>EMS: BACK PAINS/INJURY</td>\n",
              "      <td>2015-12-10 17:10:52</td>\n",
              "      <td>NEW HANOVER</td>\n",
              "      <td>REINDEER CT &amp; DEAD END</td>\n",
              "      <td>1</td>\n",
              "    </tr>\n",
              "    <tr>\n",
              "      <th>1</th>\n",
              "      <td>40.258061</td>\n",
              "      <td>-75.264680</td>\n",
              "      <td>BRIAR PATH &amp; WHITEMARSH LN;  HATFIELD TOWNSHIP...</td>\n",
              "      <td>19446.0</td>\n",
              "      <td>EMS: DIABETIC EMERGENCY</td>\n",
              "      <td>2015-12-10 17:29:21</td>\n",
              "      <td>HATFIELD TOWNSHIP</td>\n",
              "      <td>BRIAR PATH &amp; WHITEMARSH LN</td>\n",
              "      <td>1</td>\n",
              "    </tr>\n",
              "    <tr>\n",
              "      <th>2</th>\n",
              "      <td>40.121182</td>\n",
              "      <td>-75.351975</td>\n",
              "      <td>HAWS AVE; NORRISTOWN; 2015-12-10 @ 14:39:21-St...</td>\n",
              "      <td>19401.0</td>\n",
              "      <td>Fire: GAS-ODOR/LEAK</td>\n",
              "      <td>2015-12-10 14:39:21</td>\n",
              "      <td>NORRISTOWN</td>\n",
              "      <td>HAWS AVE</td>\n",
              "      <td>1</td>\n",
              "    </tr>\n",
              "    <tr>\n",
              "      <th>3</th>\n",
              "      <td>40.116153</td>\n",
              "      <td>-75.343513</td>\n",
              "      <td>AIRY ST &amp; SWEDE ST;  NORRISTOWN; Station 308A;...</td>\n",
              "      <td>19401.0</td>\n",
              "      <td>EMS: CARDIAC EMERGENCY</td>\n",
              "      <td>2015-12-10 16:47:36</td>\n",
              "      <td>NORRISTOWN</td>\n",
              "      <td>AIRY ST &amp; SWEDE ST</td>\n",
              "      <td>1</td>\n",
              "    </tr>\n",
              "    <tr>\n",
              "      <th>4</th>\n",
              "      <td>40.251492</td>\n",
              "      <td>-75.603350</td>\n",
              "      <td>CHERRYWOOD CT &amp; DEAD END;  LOWER POTTSGROVE; S...</td>\n",
              "      <td>NaN</td>\n",
              "      <td>EMS: DIZZINESS</td>\n",
              "      <td>2015-12-10 16:56:52</td>\n",
              "      <td>LOWER POTTSGROVE</td>\n",
              "      <td>CHERRYWOOD CT &amp; DEAD END</td>\n",
              "      <td>1</td>\n",
              "    </tr>\n",
              "  </tbody>\n",
              "</table>\n",
              "</div>"
            ],
            "text/plain": [
              "    Latitude  Longitude  ...                     Address  e\n",
              "0  40.297876 -75.581294  ...      REINDEER CT & DEAD END  1\n",
              "1  40.258061 -75.264680  ...  BRIAR PATH & WHITEMARSH LN  1\n",
              "2  40.121182 -75.351975  ...                    HAWS AVE  1\n",
              "3  40.116153 -75.343513  ...          AIRY ST & SWEDE ST  1\n",
              "4  40.251492 -75.603350  ...    CHERRYWOOD CT & DEAD END  1\n",
              "\n",
              "[5 rows x 9 columns]"
            ]
          },
          "metadata": {},
          "execution_count": 6
        }
      ]
    },
    {
      "cell_type": "code",
      "source": [
        "Emrg_callCopy.info()"
      ],
      "metadata": {
        "colab": {
          "base_uri": "https://localhost:8080/"
        },
        "id": "zQcve5w8pqN1",
        "outputId": "292b91be-61ee-4eda-a346-49a5f7dcf316"
      },
      "execution_count": 7,
      "outputs": [
        {
          "output_type": "stream",
          "name": "stdout",
          "text": [
            "<class 'pandas.core.frame.DataFrame'>\n",
            "RangeIndex: 663522 entries, 0 to 663521\n",
            "Data columns (total 9 columns):\n",
            " #   Column       Non-Null Count   Dtype  \n",
            "---  ------       --------------   -----  \n",
            " 0   Latitude     663522 non-null  float64\n",
            " 1   Longitude    663522 non-null  float64\n",
            " 2   Description  663522 non-null  object \n",
            " 3   Zipcode      583323 non-null  float64\n",
            " 4   title        663522 non-null  object \n",
            " 5   timeStamp    663522 non-null  object \n",
            " 6   Township     663229 non-null  object \n",
            " 7   Address      663522 non-null  object \n",
            " 8   e            663522 non-null  int64  \n",
            "dtypes: float64(3), int64(1), object(5)\n",
            "memory usage: 45.6+ MB\n"
          ]
        }
      ]
    },
    {
      "cell_type": "code",
      "source": [
        "Emrg_callCopy.isna().sum()"
      ],
      "metadata": {
        "colab": {
          "base_uri": "https://localhost:8080/"
        },
        "id": "licDH2-1tNEu",
        "outputId": "54bf2639-0739-4b46-eda6-07157fe472f0"
      },
      "execution_count": 8,
      "outputs": [
        {
          "output_type": "execute_result",
          "data": {
            "text/plain": [
              "Latitude           0\n",
              "Longitude          0\n",
              "Description        0\n",
              "Zipcode        80199\n",
              "title              0\n",
              "timeStamp          0\n",
              "Township         293\n",
              "Address            0\n",
              "e                  0\n",
              "dtype: int64"
            ]
          },
          "metadata": {},
          "execution_count": 8
        }
      ]
    },
    {
      "cell_type": "markdown",
      "source": [
        "Data Clean \" Nan \""
      ],
      "metadata": {
        "id": "e5PDH5NpaJCx"
      }
    },
    {
      "cell_type": "code",
      "source": [
        "Emrg_callCopy['Zipcode'] = Emrg_callCopy['Zipcode'].fillna(\"Unknown\")\n",
        "Emrg_callCopy['Township'] = Emrg_callCopy['Township'].fillna('Unknown')"
      ],
      "metadata": {
        "id": "AL22THJ-pqQj"
      },
      "execution_count": 9,
      "outputs": []
    },
    {
      "cell_type": "code",
      "source": [
        "Emrg_callCopy.isna().sum()"
      ],
      "metadata": {
        "colab": {
          "base_uri": "https://localhost:8080/"
        },
        "id": "TSZ0q3wjpqTE",
        "outputId": "7551a04a-8281-415c-8474-7c2588fdf0d7"
      },
      "execution_count": 10,
      "outputs": [
        {
          "output_type": "execute_result",
          "data": {
            "text/plain": [
              "Latitude       0\n",
              "Longitude      0\n",
              "Description    0\n",
              "Zipcode        0\n",
              "title          0\n",
              "timeStamp      0\n",
              "Township       0\n",
              "Address        0\n",
              "e              0\n",
              "dtype: int64"
            ]
          },
          "metadata": {},
          "execution_count": 10
        }
      ]
    },
    {
      "cell_type": "code",
      "source": [
        "Emrg_callCopy.describe()"
      ],
      "metadata": {
        "colab": {
          "base_uri": "https://localhost:8080/",
          "height": 300
        },
        "id": "dunuVKBPITxW",
        "outputId": "6fb78d8f-e2c6-49c9-a28e-e5e26beb1617"
      },
      "execution_count": 12,
      "outputs": [
        {
          "output_type": "execute_result",
          "data": {
            "text/html": [
              "<div>\n",
              "<style scoped>\n",
              "    .dataframe tbody tr th:only-of-type {\n",
              "        vertical-align: middle;\n",
              "    }\n",
              "\n",
              "    .dataframe tbody tr th {\n",
              "        vertical-align: top;\n",
              "    }\n",
              "\n",
              "    .dataframe thead th {\n",
              "        text-align: right;\n",
              "    }\n",
              "</style>\n",
              "<table border=\"1\" class=\"dataframe\">\n",
              "  <thead>\n",
              "    <tr style=\"text-align: right;\">\n",
              "      <th></th>\n",
              "      <th>Latitude</th>\n",
              "      <th>Longitude</th>\n",
              "      <th>e</th>\n",
              "    </tr>\n",
              "  </thead>\n",
              "  <tbody>\n",
              "    <tr>\n",
              "      <th>count</th>\n",
              "      <td>663522.000000</td>\n",
              "      <td>663522.000000</td>\n",
              "      <td>663522.0</td>\n",
              "    </tr>\n",
              "    <tr>\n",
              "      <th>mean</th>\n",
              "      <td>40.158162</td>\n",
              "      <td>-75.300105</td>\n",
              "      <td>1.0</td>\n",
              "    </tr>\n",
              "    <tr>\n",
              "      <th>std</th>\n",
              "      <td>0.220641</td>\n",
              "      <td>1.672884</td>\n",
              "      <td>0.0</td>\n",
              "    </tr>\n",
              "    <tr>\n",
              "      <th>min</th>\n",
              "      <td>0.000000</td>\n",
              "      <td>-119.698206</td>\n",
              "      <td>1.0</td>\n",
              "    </tr>\n",
              "    <tr>\n",
              "      <th>25%</th>\n",
              "      <td>40.100344</td>\n",
              "      <td>-75.392735</td>\n",
              "      <td>1.0</td>\n",
              "    </tr>\n",
              "    <tr>\n",
              "      <th>50%</th>\n",
              "      <td>40.143927</td>\n",
              "      <td>-75.305143</td>\n",
              "      <td>1.0</td>\n",
              "    </tr>\n",
              "    <tr>\n",
              "      <th>75%</th>\n",
              "      <td>40.229008</td>\n",
              "      <td>-75.211865</td>\n",
              "      <td>1.0</td>\n",
              "    </tr>\n",
              "    <tr>\n",
              "      <th>max</th>\n",
              "      <td>51.335390</td>\n",
              "      <td>87.854975</td>\n",
              "      <td>1.0</td>\n",
              "    </tr>\n",
              "  </tbody>\n",
              "</table>\n",
              "</div>"
            ],
            "text/plain": [
              "            Latitude      Longitude         e\n",
              "count  663522.000000  663522.000000  663522.0\n",
              "mean       40.158162     -75.300105       1.0\n",
              "std         0.220641       1.672884       0.0\n",
              "min         0.000000    -119.698206       1.0\n",
              "25%        40.100344     -75.392735       1.0\n",
              "50%        40.143927     -75.305143       1.0\n",
              "75%        40.229008     -75.211865       1.0\n",
              "max        51.335390      87.854975       1.0"
            ]
          },
          "metadata": {},
          "execution_count": 12
        }
      ]
    },
    {
      "cell_type": "markdown",
      "source": [
        "Number of the Address ,Township and Zipcode"
      ],
      "metadata": {
        "id": "HKVDsudVaXKS"
      }
    },
    {
      "cell_type": "code",
      "source": [
        "print('')\n",
        "print('ADDRESS')\n",
        "print('')\n",
        "\n",
        "Addr = Emrg_callCopy['Address'].value_counts()\n",
        "print(Addr)\n",
        "\n",
        "print('_'*50)\n",
        "print('_'*50)\n",
        "print('')\n",
        "\n",
        "print('TOWNSHIP')\n",
        "print('')\n",
        "\n",
        "Twns = Emrg_callCopy['Township'].value_counts()\n",
        "print(Twns)\n",
        "\n",
        "print('_'*50)\n",
        "print('_'*50)\n",
        "print('')\n",
        "\n",
        "print('ZIPCODE')\n",
        "print('')\n",
        "\n",
        "Zpc = Emrg_callCopy['Zipcode'].value_counts()\n",
        "print(Zpc)"
      ],
      "metadata": {
        "colab": {
          "base_uri": "https://localhost:8080/"
        },
        "id": "Fhq32OjRpqYW",
        "outputId": "d76ba489-42bf-47dd-b4fa-a31d26b5a55e"
      },
      "execution_count": 13,
      "outputs": [
        {
          "output_type": "stream",
          "name": "stdout",
          "text": [
            "\n",
            "ADDRESS\n",
            "\n",
            "SHANNONDELL DR & SHANNONDELL BLVD    7285\n",
            "MAIN ST & OLD SUMNEYTOWN PIKE        2576\n",
            "THE FAIRWAY  & RYDAL RD              1986\n",
            "EAGLEVILLE RD & SUNDERLAND DR        1618\n",
            "EVERGREEN RD & W LIGHTCAP RD         1591\n",
            "                                     ... \n",
            "RAINHILL FIRE CO                        1\n",
            "SONI DR & LONG MEADOW RD                1\n",
            "WILLOW LN & CARMELLA LN                 1\n",
            "WILLOW                                  1\n",
            "VIKING RD & FLINT HILL RD               1\n",
            "Name: Address, Length: 41292, dtype: int64\n",
            "__________________________________________________\n",
            "__________________________________________________\n",
            "\n",
            "TOWNSHIP\n",
            "\n",
            "LOWER MERION     55490\n",
            "ABINGTON         39947\n",
            "NORRISTOWN       37633\n",
            "UPPER MERION     36010\n",
            "CHELTENHAM       30574\n",
            "                 ...  \n",
            "BRYN ATHYN        1254\n",
            "GREEN LANE         385\n",
            "Unknown            293\n",
            "PHILA COUNTY       267\n",
            "LEHIGH COUNTY      190\n",
            "Name: Township, Length: 69, dtype: int64\n",
            "__________________________________________________\n",
            "__________________________________________________\n",
            "\n",
            "ZIPCODE\n",
            "\n",
            "Unknown    80199\n",
            "19401.0    45606\n",
            "19464.0    43910\n",
            "19403.0    34888\n",
            "19446.0    32270\n",
            "           ...  \n",
            "19604.0        1\n",
            "19607.0        1\n",
            "18938.0        1\n",
            "18911.0        1\n",
            "1104.0         1\n",
            "Name: Zipcode, Length: 205, dtype: int64\n"
          ]
        }
      ]
    },
    {
      "cell_type": "markdown",
      "source": [
        "### **Explorating by Visualization**"
      ],
      "metadata": {
        "id": "u6-EiZ5KPk9c"
      }
    },
    {
      "cell_type": "markdown",
      "source": [
        "First some basic questions:\n",
        "\n",
        "\n",
        "*   From where the most calls come?\n",
        "*   What is the reason for most calls?\n",
        "*   How many calls for the month ?\n",
        "*   Which Least calls areas ? and  Which Most calls areas?\n",
        "\n",
        "\n",
        "\n",
        "\n",
        "\n",
        "\n",
        "\n",
        "\n",
        "\n"
      ],
      "metadata": {
        "id": "N8EQ6X68egbp"
      }
    },
    {
      "cell_type": "code",
      "source": [
        ""
      ],
      "metadata": {
        "id": "kI2bn1g7D_KX"
      },
      "execution_count": 13,
      "outputs": []
    },
    {
      "cell_type": "markdown",
      "source": [
        "# **From where the most calls come?**"
      ],
      "metadata": {
        "id": "9gLL5qnMl2R7"
      }
    },
    {
      "cell_type": "code",
      "source": [
        "Emrg_callCopy['Station_number'] = Emrg_callCopy.Description.str.split('Station', expand=True)[1].str.split(';', expand=True)[0]\n",
        "Emrg_callCopy.head(2)"
      ],
      "metadata": {
        "id": "gRT7P15xpqds",
        "colab": {
          "base_uri": "https://localhost:8080/",
          "height": 199
        },
        "outputId": "fcf45349-2161-4c5d-9089-58db0555893a"
      },
      "execution_count": 14,
      "outputs": [
        {
          "output_type": "execute_result",
          "data": {
            "text/html": [
              "<div>\n",
              "<style scoped>\n",
              "    .dataframe tbody tr th:only-of-type {\n",
              "        vertical-align: middle;\n",
              "    }\n",
              "\n",
              "    .dataframe tbody tr th {\n",
              "        vertical-align: top;\n",
              "    }\n",
              "\n",
              "    .dataframe thead th {\n",
              "        text-align: right;\n",
              "    }\n",
              "</style>\n",
              "<table border=\"1\" class=\"dataframe\">\n",
              "  <thead>\n",
              "    <tr style=\"text-align: right;\">\n",
              "      <th></th>\n",
              "      <th>Latitude</th>\n",
              "      <th>Longitude</th>\n",
              "      <th>Description</th>\n",
              "      <th>Zipcode</th>\n",
              "      <th>title</th>\n",
              "      <th>timeStamp</th>\n",
              "      <th>Township</th>\n",
              "      <th>Address</th>\n",
              "      <th>e</th>\n",
              "      <th>Station_number</th>\n",
              "    </tr>\n",
              "  </thead>\n",
              "  <tbody>\n",
              "    <tr>\n",
              "      <th>0</th>\n",
              "      <td>40.297876</td>\n",
              "      <td>-75.581294</td>\n",
              "      <td>REINDEER CT &amp; DEAD END;  NEW HANOVER; Station ...</td>\n",
              "      <td>19525</td>\n",
              "      <td>EMS: BACK PAINS/INJURY</td>\n",
              "      <td>2015-12-10 17:10:52</td>\n",
              "      <td>NEW HANOVER</td>\n",
              "      <td>REINDEER CT &amp; DEAD END</td>\n",
              "      <td>1</td>\n",
              "      <td>332</td>\n",
              "    </tr>\n",
              "    <tr>\n",
              "      <th>1</th>\n",
              "      <td>40.258061</td>\n",
              "      <td>-75.264680</td>\n",
              "      <td>BRIAR PATH &amp; WHITEMARSH LN;  HATFIELD TOWNSHIP...</td>\n",
              "      <td>19446</td>\n",
              "      <td>EMS: DIABETIC EMERGENCY</td>\n",
              "      <td>2015-12-10 17:29:21</td>\n",
              "      <td>HATFIELD TOWNSHIP</td>\n",
              "      <td>BRIAR PATH &amp; WHITEMARSH LN</td>\n",
              "      <td>1</td>\n",
              "      <td>345</td>\n",
              "    </tr>\n",
              "  </tbody>\n",
              "</table>\n",
              "</div>"
            ],
            "text/plain": [
              "    Latitude  Longitude  ...  e Station_number\n",
              "0  40.297876 -75.581294  ...  1            332\n",
              "1  40.258061 -75.264680  ...  1            345\n",
              "\n",
              "[2 rows x 10 columns]"
            ]
          },
          "metadata": {},
          "execution_count": 14
        }
      ]
    },
    {
      "cell_type": "code",
      "source": [
        "Emrg_callCopy.Station_number.value_counts()[:15]"
      ],
      "metadata": {
        "id": "Z6WpxbAUpqgX",
        "colab": {
          "base_uri": "https://localhost:8080/"
        },
        "outputId": "e5c6ef81-33c8-4138-ffeb-cf3d4a0a8748"
      },
      "execution_count": 15,
      "outputs": [
        {
          "output_type": "execute_result",
          "data": {
            "text/plain": [
              " 308A    25346\n",
              " 329     21895\n",
              " 313     20325\n",
              " 381     15949\n",
              " 345     14504\n",
              " 308     13963\n",
              " 351     12705\n",
              " 345B    12165\n",
              " 317     11802\n",
              " 382     11169\n",
              " 322A    10622\n",
              " 308B     9128\n",
              " 339      8066\n",
              " 384      7781\n",
              " 344      7769\n",
              "Name: Station_number, dtype: int64"
            ]
          },
          "metadata": {},
          "execution_count": 15
        }
      ]
    },
    {
      "cell_type": "code",
      "source": [
        "Stat_num = Emrg_callCopy.Station_number.value_counts()[:10]\n",
        "\n",
        "plt.figure(figsize=(10, 8))\n",
        "x = list(Stat_num.index)\n",
        "y = list(Stat_num.values)\n",
        "x.reverse()\n",
        "y.reverse()\n",
        "\n",
        "plt.title(\"Most Called Stations\")\n",
        "plt.xlabel(\"Number of calls\")\n",
        "plt.ylabel(\"Station\")\n",
        "\n",
        "plt.barh(x, y)\n",
        "#sns.countplot(x =  Emrg_callCopy.Station_number , data= Emrg_callCopy , hue= 'Station_number')"
      ],
      "metadata": {
        "id": "1YyRcbZLpqjB",
        "colab": {
          "base_uri": "https://localhost:8080/",
          "height": 530
        },
        "outputId": "9c1d0cf6-727c-4fc4-cf1f-d8ba28b9a7f6"
      },
      "execution_count": 16,
      "outputs": [
        {
          "output_type": "execute_result",
          "data": {
            "text/plain": [
              "<BarContainer object of 10 artists>"
            ]
          },
          "metadata": {},
          "execution_count": 16
        },
        {
          "output_type": "display_data",
          "data": {
            "image/png": "[encoded data removed]",
            "text/plain": [
              "<Figure size 720x576 with 1 Axes>"
            ]
          },
          "metadata": {}
        }
      ]
    },
    {
      "cell_type": "markdown",
      "source": [
        "So, Most of the calls come from stations : 308A , 329, 313"
      ],
      "metadata": {
        "id": "926y8J32LiPN"
      }
    },
    {
      "cell_type": "markdown",
      "source": [
        "# **What is the reason for most calls?**"
      ],
      "metadata": {
        "id": "m5NyuQReMT_g"
      }
    },
    {
      "cell_type": "code",
      "source": [
        "Emrg_callCopy.title.value_counts()[:10]"
      ],
      "metadata": {
        "id": "fmTL6uQspqly",
        "colab": {
          "base_uri": "https://localhost:8080/"
        },
        "outputId": "5cdc1a61-c12c-4a1f-f129-e773fa10900a"
      },
      "execution_count": 19,
      "outputs": [
        {
          "output_type": "execute_result",
          "data": {
            "text/plain": [
              "Traffic: VEHICLE ACCIDENT -    148372\n",
              "Traffic: DISABLED VEHICLE -     47909\n",
              "Fire: FIRE ALARM                38336\n",
              "EMS: FALL VICTIM                34676\n",
              "EMS: RESPIRATORY EMERGENCY      34248\n",
              "EMS: CARDIAC EMERGENCY          32332\n",
              "EMS: VEHICLE ACCIDENT           25513\n",
              "Traffic: ROAD OBSTRUCTION -     23235\n",
              "EMS: SUBJECT IN PAIN            19646\n",
              "EMS: HEAD INJURY                18301\n",
              "Name: title, dtype: int64"
            ]
          },
          "metadata": {},
          "execution_count": 19
        }
      ]
    },
    {
      "cell_type": "code",
      "source": [
        "\n",
        "Emrg_callCopy['Reason']=Emrg_callCopy['title'].apply(lambda x:x.split(':')[0])\n",
        "Emrg_callCopy.head(3)"
      ],
      "metadata": {
        "colab": {
          "base_uri": "https://localhost:8080/",
          "height": 300
        },
        "id": "7wyVauBJYR9M",
        "outputId": "109b5f3f-9ac6-47cb-baa8-383760f870bd"
      },
      "execution_count": 17,
      "outputs": [
        {
          "output_type": "execute_result",
          "data": {
            "text/html": [
              "<div>\n",
              "<style scoped>\n",
              "    .dataframe tbody tr th:only-of-type {\n",
              "        vertical-align: middle;\n",
              "    }\n",
              "\n",
              "    .dataframe tbody tr th {\n",
              "        vertical-align: top;\n",
              "    }\n",
              "\n",
              "    .dataframe thead th {\n",
              "        text-align: right;\n",
              "    }\n",
              "</style>\n",
              "<table border=\"1\" class=\"dataframe\">\n",
              "  <thead>\n",
              "    <tr style=\"text-align: right;\">\n",
              "      <th></th>\n",
              "      <th>Latitude</th>\n",
              "      <th>Longitude</th>\n",
              "      <th>Description</th>\n",
              "      <th>Zipcode</th>\n",
              "      <th>title</th>\n",
              "      <th>timeStamp</th>\n",
              "      <th>Township</th>\n",
              "      <th>Address</th>\n",
              "      <th>e</th>\n",
              "      <th>Station_number</th>\n",
              "      <th>Reason</th>\n",
              "    </tr>\n",
              "  </thead>\n",
              "  <tbody>\n",
              "    <tr>\n",
              "      <th>0</th>\n",
              "      <td>40.297876</td>\n",
              "      <td>-75.581294</td>\n",
              "      <td>REINDEER CT &amp; DEAD END;  NEW HANOVER; Station ...</td>\n",
              "      <td>19525</td>\n",
              "      <td>EMS: BACK PAINS/INJURY</td>\n",
              "      <td>2015-12-10 17:10:52</td>\n",
              "      <td>NEW HANOVER</td>\n",
              "      <td>REINDEER CT &amp; DEAD END</td>\n",
              "      <td>1</td>\n",
              "      <td>332</td>\n",
              "      <td>EMS</td>\n",
              "    </tr>\n",
              "    <tr>\n",
              "      <th>1</th>\n",
              "      <td>40.258061</td>\n",
              "      <td>-75.264680</td>\n",
              "      <td>BRIAR PATH &amp; WHITEMARSH LN;  HATFIELD TOWNSHIP...</td>\n",
              "      <td>19446</td>\n",
              "      <td>EMS: DIABETIC EMERGENCY</td>\n",
              "      <td>2015-12-10 17:29:21</td>\n",
              "      <td>HATFIELD TOWNSHIP</td>\n",
              "      <td>BRIAR PATH &amp; WHITEMARSH LN</td>\n",
              "      <td>1</td>\n",
              "      <td>345</td>\n",
              "      <td>EMS</td>\n",
              "    </tr>\n",
              "    <tr>\n",
              "      <th>2</th>\n",
              "      <td>40.121182</td>\n",
              "      <td>-75.351975</td>\n",
              "      <td>HAWS AVE; NORRISTOWN; 2015-12-10 @ 14:39:21-St...</td>\n",
              "      <td>19401</td>\n",
              "      <td>Fire: GAS-ODOR/LEAK</td>\n",
              "      <td>2015-12-10 14:39:21</td>\n",
              "      <td>NORRISTOWN</td>\n",
              "      <td>HAWS AVE</td>\n",
              "      <td>1</td>\n",
              "      <td>:STA27</td>\n",
              "      <td>Fire</td>\n",
              "    </tr>\n",
              "  </tbody>\n",
              "</table>\n",
              "</div>"
            ],
            "text/plain": [
              "    Latitude  Longitude  ... Station_number Reason\n",
              "0  40.297876 -75.581294  ...            332    EMS\n",
              "1  40.258061 -75.264680  ...            345    EMS\n",
              "2  40.121182 -75.351975  ...         :STA27   Fire\n",
              "\n",
              "[3 rows x 11 columns]"
            ]
          },
          "metadata": {},
          "execution_count": 17
        }
      ]
    },
    {
      "cell_type": "code",
      "source": [
        "sns.countplot(x = 'Reason' , data=Emrg_callCopy , palette='viridis')"
      ],
      "metadata": {
        "colab": {
          "base_uri": "https://localhost:8080/",
          "height": 296
        },
        "id": "pDG6YdFKYSVq",
        "outputId": "7975d5a3-323a-45d2-f8a9-613f4a56f1e4"
      },
      "execution_count": 18,
      "outputs": [
        {
          "output_type": "execute_result",
          "data": {
            "text/plain": [
              "<matplotlib.axes._subplots.AxesSubplot at 0x7f36c1c2f850>"
            ]
          },
          "metadata": {},
          "execution_count": 18
        },
        {
          "output_type": "display_data",
          "data": {
            "image/png": "[encoded data removed]",
            "text/plain": [
              "<Figure size 432x288 with 1 Axes>"
            ]
          },
          "metadata": {}
        }
      ]
    },
    {
      "cell_type": "markdown",
      "source": [
        "# **How many calls for the month ?**"
      ],
      "metadata": {
        "id": "mZ3C0Gqa53oL"
      }
    },
    {
      "cell_type": "code",
      "source": [
        "Emrg_callCopy['timeStamp'] = pd.to_datetime(Emrg_callCopy.timeStamp)\n",
        "Emrg_callCopy.timeStamp"
      ],
      "metadata": {
        "colab": {
          "base_uri": "https://localhost:8080/"
        },
        "id": "Ci67QDdHRA1r",
        "outputId": "4d79e2ea-d785-48c3-d7b4-8b2d438d8a94"
      },
      "execution_count": 23,
      "outputs": [
        {
          "output_type": "execute_result",
          "data": {
            "text/plain": [
              "0        2015-12-10 17:10:52\n",
              "1        2015-12-10 17:29:21\n",
              "2        2015-12-10 14:39:21\n",
              "3        2015-12-10 16:47:36\n",
              "4        2015-12-10 16:56:52\n",
              "                 ...        \n",
              "663517   2020-07-29 15:46:51\n",
              "663518   2020-07-29 15:52:19\n",
              "663519   2020-07-29 15:52:52\n",
              "663520   2020-07-29 15:54:08\n",
              "663521   2020-07-29 15:52:46\n",
              "Name: timeStamp, Length: 663522, dtype: datetime64[ns]"
            ]
          },
          "metadata": {},
          "execution_count": 23
        }
      ]
    },
    {
      "cell_type": "code",
      "source": [
        "Emrg_callCopy['Hour'] = Emrg_callCopy.timeStamp.dt.hour\n",
        "Emrg_callCopy['Month'] = Emrg_callCopy.timeStamp.dt.month\n",
        "Emrg_callCopy['Day_of_Week'] = Emrg_callCopy.timeStamp.dt.weekday\n",
        "Emrg_callCopy.head(3)"
      ],
      "metadata": {
        "colab": {
          "base_uri": "https://localhost:8080/",
          "height": 337
        },
        "id": "8csz_dFDE6Hp",
        "outputId": "2c1ce093-f9ab-4205-cfdd-a7cf811a3ef5"
      },
      "execution_count": 24,
      "outputs": [
        {
          "output_type": "execute_result",
          "data": {
            "text/html": [
              "<div>\n",
              "<style scoped>\n",
              "    .dataframe tbody tr th:only-of-type {\n",
              "        vertical-align: middle;\n",
              "    }\n",
              "\n",
              "    .dataframe tbody tr th {\n",
              "        vertical-align: top;\n",
              "    }\n",
              "\n",
              "    .dataframe thead th {\n",
              "        text-align: right;\n",
              "    }\n",
              "</style>\n",
              "<table border=\"1\" class=\"dataframe\">\n",
              "  <thead>\n",
              "    <tr style=\"text-align: right;\">\n",
              "      <th></th>\n",
              "      <th>Latitude</th>\n",
              "      <th>Longitude</th>\n",
              "      <th>Description</th>\n",
              "      <th>Zipcode</th>\n",
              "      <th>title</th>\n",
              "      <th>timeStamp</th>\n",
              "      <th>Township</th>\n",
              "      <th>Address</th>\n",
              "      <th>e</th>\n",
              "      <th>Station_number</th>\n",
              "      <th>Reason</th>\n",
              "      <th>Hour</th>\n",
              "      <th>Month</th>\n",
              "      <th>Day_of_Week</th>\n",
              "    </tr>\n",
              "  </thead>\n",
              "  <tbody>\n",
              "    <tr>\n",
              "      <th>0</th>\n",
              "      <td>40.297876</td>\n",
              "      <td>-75.581294</td>\n",
              "      <td>REINDEER CT &amp; DEAD END;  NEW HANOVER; Station ...</td>\n",
              "      <td>19525</td>\n",
              "      <td>EMS: BACK PAINS/INJURY</td>\n",
              "      <td>2015-12-10 17:10:52</td>\n",
              "      <td>NEW HANOVER</td>\n",
              "      <td>REINDEER CT &amp; DEAD END</td>\n",
              "      <td>1</td>\n",
              "      <td>332</td>\n",
              "      <td>EMS</td>\n",
              "      <td>17</td>\n",
              "      <td>12</td>\n",
              "      <td>3</td>\n",
              "    </tr>\n",
              "    <tr>\n",
              "      <th>1</th>\n",
              "      <td>40.258061</td>\n",
              "      <td>-75.264680</td>\n",
              "      <td>BRIAR PATH &amp; WHITEMARSH LN;  HATFIELD TOWNSHIP...</td>\n",
              "      <td>19446</td>\n",
              "      <td>EMS: DIABETIC EMERGENCY</td>\n",
              "      <td>2015-12-10 17:29:21</td>\n",
              "      <td>HATFIELD TOWNSHIP</td>\n",
              "      <td>BRIAR PATH &amp; WHITEMARSH LN</td>\n",
              "      <td>1</td>\n",
              "      <td>345</td>\n",
              "      <td>EMS</td>\n",
              "      <td>17</td>\n",
              "      <td>12</td>\n",
              "      <td>3</td>\n",
              "    </tr>\n",
              "    <tr>\n",
              "      <th>2</th>\n",
              "      <td>40.121182</td>\n",
              "      <td>-75.351975</td>\n",
              "      <td>HAWS AVE; NORRISTOWN; 2015-12-10 @ 14:39:21-St...</td>\n",
              "      <td>19401</td>\n",
              "      <td>Fire: GAS-ODOR/LEAK</td>\n",
              "      <td>2015-12-10 14:39:21</td>\n",
              "      <td>NORRISTOWN</td>\n",
              "      <td>HAWS AVE</td>\n",
              "      <td>1</td>\n",
              "      <td>:STA27</td>\n",
              "      <td>Fire</td>\n",
              "      <td>14</td>\n",
              "      <td>12</td>\n",
              "      <td>3</td>\n",
              "    </tr>\n",
              "  </tbody>\n",
              "</table>\n",
              "</div>"
            ],
            "text/plain": [
              "    Latitude  Longitude  ... Month Day_of_Week\n",
              "0  40.297876 -75.581294  ...    12           3\n",
              "1  40.258061 -75.264680  ...    12           3\n",
              "2  40.121182 -75.351975  ...    12           3\n",
              "\n",
              "[3 rows x 14 columns]"
            ]
          },
          "metadata": {},
          "execution_count": 24
        }
      ]
    },
    {
      "cell_type": "code",
      "source": [
        "Ds = {0:'Sun', 1:'Mon', 2:'Tue', 3:'Wed', 4:'Thu', 5:'Fri', 6:'Sat'}\n",
        "Emrg_callCopy['Day_of_Week'] = Emrg_callCopy.Day_of_Week.map(Ds)\n",
        "Emrg_callCopy.Day_of_Week.value_counts()"
      ],
      "metadata": {
        "colab": {
          "base_uri": "https://localhost:8080/"
        },
        "id": "Gn_xPjI-E6LA",
        "outputId": "cf7f8da1-335e-4875-cafd-30ec27e9adba"
      },
      "execution_count": 25,
      "outputs": [
        {
          "output_type": "execute_result",
          "data": {
            "text/plain": [
              "Thu    102942\n",
              "Tue     99157\n",
              "Wed     98683\n",
              "Mon     97684\n",
              "Sun     96745\n",
              "Fri     89452\n",
              "Sat     78859\n",
              "Name: Day_of_Week, dtype: int64"
            ]
          },
          "metadata": {},
          "execution_count": 25
        }
      ]
    },
    {
      "cell_type": "code",
      "source": [
        "ByMonth = Emrg_callCopy.groupby('Month').count()\n",
        "ByMonth.head(3)"
      ],
      "metadata": {
        "colab": {
          "base_uri": "https://localhost:8080/",
          "height": 195
        },
        "id": "YpWxztR2XTlN",
        "outputId": "4ce84145-bada-4d31-c623-802f19ec1217"
      },
      "execution_count": 26,
      "outputs": [
        {
          "output_type": "execute_result",
          "data": {
            "text/html": [
              "<div>\n",
              "<style scoped>\n",
              "    .dataframe tbody tr th:only-of-type {\n",
              "        vertical-align: middle;\n",
              "    }\n",
              "\n",
              "    .dataframe tbody tr th {\n",
              "        vertical-align: top;\n",
              "    }\n",
              "\n",
              "    .dataframe thead th {\n",
              "        text-align: right;\n",
              "    }\n",
              "</style>\n",
              "<table border=\"1\" class=\"dataframe\">\n",
              "  <thead>\n",
              "    <tr style=\"text-align: right;\">\n",
              "      <th></th>\n",
              "      <th>Latitude</th>\n",
              "      <th>Longitude</th>\n",
              "      <th>Description</th>\n",
              "      <th>Zipcode</th>\n",
              "      <th>title</th>\n",
              "      <th>timeStamp</th>\n",
              "      <th>Township</th>\n",
              "      <th>Address</th>\n",
              "      <th>e</th>\n",
              "      <th>Station_number</th>\n",
              "      <th>Reason</th>\n",
              "      <th>Hour</th>\n",
              "      <th>Day_of_Week</th>\n",
              "    </tr>\n",
              "    <tr>\n",
              "      <th>Month</th>\n",
              "      <th></th>\n",
              "      <th></th>\n",
              "      <th></th>\n",
              "      <th></th>\n",
              "      <th></th>\n",
              "      <th></th>\n",
              "      <th></th>\n",
              "      <th></th>\n",
              "      <th></th>\n",
              "      <th></th>\n",
              "      <th></th>\n",
              "      <th></th>\n",
              "      <th></th>\n",
              "    </tr>\n",
              "  </thead>\n",
              "  <tbody>\n",
              "    <tr>\n",
              "      <th>1</th>\n",
              "      <td>62336</td>\n",
              "      <td>62336</td>\n",
              "      <td>62336</td>\n",
              "      <td>62336</td>\n",
              "      <td>62336</td>\n",
              "      <td>62336</td>\n",
              "      <td>62336</td>\n",
              "      <td>62336</td>\n",
              "      <td>62336</td>\n",
              "      <td>40057</td>\n",
              "      <td>62336</td>\n",
              "      <td>62336</td>\n",
              "      <td>62336</td>\n",
              "    </tr>\n",
              "    <tr>\n",
              "      <th>2</th>\n",
              "      <td>55427</td>\n",
              "      <td>55427</td>\n",
              "      <td>55427</td>\n",
              "      <td>55427</td>\n",
              "      <td>55427</td>\n",
              "      <td>55427</td>\n",
              "      <td>55427</td>\n",
              "      <td>55427</td>\n",
              "      <td>55427</td>\n",
              "      <td>36421</td>\n",
              "      <td>55427</td>\n",
              "      <td>55427</td>\n",
              "      <td>55427</td>\n",
              "    </tr>\n",
              "    <tr>\n",
              "      <th>3</th>\n",
              "      <td>60027</td>\n",
              "      <td>60027</td>\n",
              "      <td>60027</td>\n",
              "      <td>60027</td>\n",
              "      <td>60027</td>\n",
              "      <td>60027</td>\n",
              "      <td>60027</td>\n",
              "      <td>60027</td>\n",
              "      <td>60027</td>\n",
              "      <td>39124</td>\n",
              "      <td>60027</td>\n",
              "      <td>60027</td>\n",
              "      <td>60027</td>\n",
              "    </tr>\n",
              "  </tbody>\n",
              "</table>\n",
              "</div>"
            ],
            "text/plain": [
              "       Latitude  Longitude  Description  ...  Reason   Hour  Day_of_Week\n",
              "Month                                    ...                            \n",
              "1         62336      62336        62336  ...   62336  62336        62336\n",
              "2         55427      55427        55427  ...   55427  55427        55427\n",
              "3         60027      60027        60027  ...   60027  60027        60027\n",
              "\n",
              "[3 rows x 13 columns]"
            ]
          },
          "metadata": {},
          "execution_count": 26
        }
      ]
    },
    {
      "cell_type": "code",
      "source": [
        "#plt.figure(figsize=(12, 8))\n",
        "#sns.lmplot(x='Month',y='Township',data=ByMonth.reset_index())"
      ],
      "metadata": {
        "id": "2k3yWaGs5yxq"
      },
      "execution_count": 27,
      "outputs": []
    },
    {
      "cell_type": "code",
      "source": [
        "x = np.array(ByMonth['Hour'])\n",
        "y = np.array(ByMonth['Day_of_Week'])"
      ],
      "metadata": {
        "id": "WVKENuNQE6Qz"
      },
      "execution_count": 28,
      "outputs": []
    },
    {
      "cell_type": "code",
      "source": [
        "model = LinearRegression()\n",
        "x_train= x.reshape(-1, 1)\n",
        "y_train= y.reshape(-1, 1)\n",
        "model.fit(x_train,y_train)\n",
        "plt.scatter(x_train, y_train)\n",
        "plt.plot(x_train,model.predict(y_train), 'r')\n",
        "plt.show()"
      ],
      "metadata": {
        "colab": {
          "base_uri": "https://localhost:8080/",
          "height": 265
        },
        "id": "el_xd0o0E6Tn",
        "outputId": "f60610b7-7cdc-450a-94b3-3fa54d1ef960"
      },
      "execution_count": 29,
      "outputs": [
        {
          "output_type": "display_data",
          "data": {
            "image/png": "[encoded data removed]",
            "text/plain": [
              "<Figure size 432x288 with 1 Axes>"
            ]
          },
          "metadata": {}
        }
      ]
    },
    {
      "cell_type": "markdown",
      "source": [
        "# **Which least calls areas ? and  Which most calls areas?**"
      ],
      "metadata": {
        "id": "9-zi0mINkLrs"
      }
    },
    {
      "cell_type": "code",
      "source": [
        "twnsh = Emrg_callCopy.Township.value_counts()[:10]\n",
        "twnsh"
      ],
      "metadata": {
        "id": "6jQlfpoAjAL4",
        "colab": {
          "base_uri": "https://localhost:8080/"
        },
        "outputId": "c494ecaf-a54a-4fdd-d04f-4bb977a5b132"
      },
      "execution_count": 37,
      "outputs": [
        {
          "output_type": "execute_result",
          "data": {
            "text/plain": [
              "LOWER MERION        55490\n",
              "ABINGTON            39947\n",
              "NORRISTOWN          37633\n",
              "UPPER MERION        36010\n",
              "CHELTENHAM          30574\n",
              "POTTSTOWN           27387\n",
              "UPPER MORELAND      22932\n",
              "LOWER PROVIDENCE    22476\n",
              "PLYMOUTH            20116\n",
              "UPPER DUBLIN        18862\n",
              "Name: Township, dtype: int64"
            ]
          },
          "metadata": {},
          "execution_count": 37
        }
      ]
    },
    {
      "cell_type": "code",
      "source": [
        "twnsh.plot(figsize=(10, 8))"
      ],
      "metadata": {
        "colab": {
          "base_uri": "https://localhost:8080/",
          "height": 500
        },
        "id": "UdpINIe7E6aX",
        "outputId": "61f7863a-8e6a-4d09-8809-a33455d48a32"
      },
      "execution_count": 38,
      "outputs": [
        {
          "output_type": "execute_result",
          "data": {
            "text/plain": [
              "<matplotlib.axes._subplots.AxesSubplot at 0x7f36bd229e10>"
            ]
          },
          "metadata": {},
          "execution_count": 38
        },
        {
          "output_type": "display_data",
          "data": {
            "image/png": "[encoded data removed]",
            "text/plain": [
              "<Figure size 720x576 with 1 Axes>"
            ]
          },
          "metadata": {}
        }
      ]
    }
  ]
}